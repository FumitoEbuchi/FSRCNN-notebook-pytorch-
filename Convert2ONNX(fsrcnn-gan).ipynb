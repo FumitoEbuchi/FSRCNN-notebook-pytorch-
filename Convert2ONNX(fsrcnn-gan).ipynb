{
 "cells": [
  {
   "cell_type": "code",
   "execution_count": 1,
   "metadata": {},
   "outputs": [],
   "source": [
    "import sys\n",
    "import os\n",
    "import glob\n",
    "import numpy as np\n",
    "import torch\n",
    "from PIL import Image\n",
    "import torch.nn as nn\n",
    "import torch.optim as optim\n",
    "from torch.autograd import Variable"
   ]
  },
  {
   "cell_type": "code",
   "execution_count": 2,
   "metadata": {},
   "outputs": [],
   "source": [
    "class Model(nn.Module):\n",
    "    def __init__(self, d=48, s=12, m=2, upscale = 2):\n",
    "        super().__init__()\n",
    "        \n",
    "        #feature extraction layer\n",
    "        self.fe_layer = nn.Conv2d(in_channels=1, out_channels=d, kernel_size=3, stride=1, padding=1, dilation=1, groups=1, bias=True, padding_mode='zeros')\n",
    "        #shrinking layer\n",
    "        self.sh_layer = nn.Conv2d(in_channels=d, out_channels=s, kernel_size=1, stride=1, padding=0, dilation=1, groups=1, bias=True, padding_mode='zeros')\n",
    "        \n",
    "        #mapping layer\n",
    "        self.m = m\n",
    "        for i in range(m):\n",
    "            setattr(self, f'map_layer{i+1}', nn.Conv2d(in_channels=s, out_channels=s, kernel_size=3, stride=1, padding=1, dilation=1, groups=1, bias=True, padding_mode='zeros'))\n",
    "        \n",
    "        #expanding layer\n",
    "        self.ex_layer = nn.Conv2d(in_channels=s, out_channels=d, kernel_size=1, stride=1, padding=0, dilation=1, groups=1, bias=True, padding_mode='zeros')\n",
    "        \n",
    "        #deconv layer\n",
    "        self.deconv = nn.ConvTranspose2d(in_channels=d, out_channels=1, kernel_size=3, stride=2, padding=1, output_padding=1, groups=1, bias=True, dilation=1, padding_mode='zeros')\n",
    "        self.deconv1 = nn.Conv2d(in_channels=d, out_channels=upscale**2, kernel_size=3, stride=1, padding=1, dilation=1, groups=1, bias=True, padding_mode='zeros')\n",
    "        self.deconv2 = nn.PixelShuffle(upscale_factor=upscale)\n",
    "        \n",
    "        self.relu = nn.ReLU()\n",
    "        self.prelu = nn.PReLU()\n",
    "        \n",
    "    def forward(self, x):\n",
    "        out = self.prelu(self.fe_layer(x))\n",
    "        #res_out0 = out\n",
    "        #print(out.size())\n",
    "        out = self.prelu(self.sh_layer(out))\n",
    "        res_out1 = out\n",
    "        #print(out.size())\n",
    "        for i in range(self.m):\n",
    "            out = self.prelu(getattr(self, f'map_layer{i+1}')(out))\n",
    "            #print(out.size())\n",
    "        out = self.prelu(self.ex_layer(out+res_out1))\n",
    "        #print(out.size())\n",
    "        #out = self.deconv(out)\n",
    "        #print(out.size())\n",
    "        out = self.deconv1(out)\n",
    "        #print(out.size())\n",
    "        out = self.relu(self.deconv2(out))\n",
    "        #print(out.size())\n",
    "        return out"
   ]
  },
  {
   "cell_type": "code",
   "execution_count": 3,
   "metadata": {},
   "outputs": [
    {
     "data": {
      "text/plain": [
       "<All keys matched successfully>"
      ]
     },
     "execution_count": 3,
     "metadata": {},
     "output_type": "execute_result"
    }
   ],
   "source": [
    "device = torch.device(\"cuda:0\" if torch.cuda.is_available() else \"cpu\")\n",
    "model_torch = Model()\n",
    "model_torch = model_torch.to(device)\n",
    "#FSRCNNのモデル読み出し\n",
    "model_torch.load_state_dict(torch.load('./G_model.pth'))"
   ]
  },
  {
   "cell_type": "code",
   "execution_count": 4,
   "metadata": {},
   "outputs": [
    {
     "name": "stdout",
     "output_type": "stream",
     "text": [
      "torch.Size([1, 1, 256, 256])\n",
      "time = 0.0028531551361083984\n"
     ]
    }
   ],
   "source": [
    "dummy_input = torch.from_numpy(np.ones((1, 1, 128, 128))).float().to(device)\n",
    "import time \n",
    "start = time.time()\n",
    "dummy_output = model_torch(dummy_input)\n",
    "end = time.time()\n",
    "print(dummy_output.size())\n",
    "print(f'time = {end-start}')"
   ]
  },
  {
   "cell_type": "code",
   "execution_count": 5,
   "metadata": {},
   "outputs": [],
   "source": [
    "torch.onnx.export(model_torch, dummy_input, './model.onnx')"
   ]
  }
 ],
 "metadata": {
  "kernelspec": {
   "display_name": "torch_env",
   "language": "python",
   "name": "torch_env"
  },
  "language_info": {
   "codemirror_mode": {
    "name": "ipython",
    "version": 3
   },
   "file_extension": ".py",
   "mimetype": "text/x-python",
   "name": "python",
   "nbconvert_exporter": "python",
   "pygments_lexer": "ipython3",
   "version": "3.7.6"
  }
 },
 "nbformat": 4,
 "nbformat_minor": 4
}
