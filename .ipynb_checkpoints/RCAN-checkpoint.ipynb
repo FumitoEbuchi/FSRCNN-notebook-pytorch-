{
 "cells": [
  {
   "cell_type": "raw",
   "metadata": {},
   "source": [
    "参考 : https://github.com/yulunzhang/RCAN"
   ]
  },
  {
   "cell_type": "code",
   "execution_count": 1,
   "metadata": {},
   "outputs": [],
   "source": [
    "import sys\n",
    "import os\n",
    "import glob\n",
    "import numpy as np\n",
    "import torch\n",
    "from PIL import Image"
   ]
  },
  {
   "cell_type": "code",
   "execution_count": 2,
   "metadata": {},
   "outputs": [],
   "source": [
    "data_name_list = sorted(glob.glob('../T91/*.png'))"
   ]
  },
  {
   "cell_type": "code",
   "execution_count": 3,
   "metadata": {},
   "outputs": [],
   "source": [
    "class GetTrainData(object):\n",
    "    def __init__(self, data_path_list):\n",
    "        self.data_path_list = data_path_list\n",
    "    def get_data(self):\n",
    "        X, Y = [], []\n",
    "        for i in range(len(self.data_path_list)):\n",
    "            img = Image.open(self.data_path_list[i]).convert('L')\n",
    "            (hight, width) = img.size\n",
    "            if((width<128)|(hight<128)):\n",
    "                continue\n",
    "            img_array = np.array(img).astype(np.uint8)\n",
    "            for w in range(0, width-128+1, 64):\n",
    "                for h in range(0, hight-128+1, 64):\n",
    "                    batch_img_array = img_array[w:w+128, h:h+128]\n",
    "                    Y.append(batch_img_array.reshape(128,128,1))\n",
    "                    batch_img = Image.fromarray(batch_img_array)\n",
    "                    batch_img = batch_img.resize((64, 64), Image.BICUBIC)\n",
    "                    batch_img = np.array(batch_img).astype(np.uint8)\n",
    "                    X.append(batch_img.reshape(64,64,1))\n",
    "        X = np.array(X)\n",
    "        Y = np.array(Y)\n",
    "        return X/255.0, Y/255.0"
   ]
  },
  {
   "cell_type": "code",
   "execution_count": 4,
   "metadata": {},
   "outputs": [],
   "source": [
    "X, Y = GetTrainData(data_name_list).get_data()"
   ]
  },
  {
   "cell_type": "code",
   "execution_count": null,
   "metadata": {},
   "outputs": [],
   "source": [
    "import torch\n",
    "import torch.nn as nn\n",
    "import torch.optim as optim\n",
    "from torch.autograd import Variable"
   ]
  },
  {
   "cell_type": "code",
   "execution_count": null,
   "metadata": {},
   "outputs": [],
   "source": [
    "import math\n",
    "class Upsampler(nn.Sequential):\n",
    "    def __init__(self, conv, scale, n_feat, bn = False, act = False, bias = True):\n",
    "        m = []\n",
    "        if(scale&(scale-1))==0:\n",
    "            for _ in range(int(math.log(scale, 2))):\n",
    "                m.append(conv(n_feat, 4*n_feat, 3, bias))\n",
    "                m.append(nn.PixelShuffle(2))\n",
    "                if bn: \n",
    "                    m.append(nn.BatchNorm2d(n_feat))\n",
    "                if act:\n",
    "                    m.append(act())\n",
    "        elif scale==3:\n",
    "            m.append(conv(n_feat, 9*n_feat, 3, bias))\n",
    "            m.append(nn.PixelShuffle(3))\n",
    "            if bn:\n",
    "                m.append(nn.BatchNorm2d(n_feat))\n",
    "            if act:\n",
    "                m.append(act())\n",
    "        else:\n",
    "            raise NotImplementedError\n",
    "        \n",
    "        super(Upsampler, self).__init__(*m)"
   ]
  },
  {
   "cell_type": "code",
   "execution_count": null,
   "metadata": {},
   "outputs": [],
   "source": [
    "class ResidualGroup(nn.Module):\n",
    "    def __init__(self, conv, n_feat, kernel_size, reduction, act, res_scale, n_resblocks):\n",
    "        super().__init__()\n",
    "        modules_body = []\n",
    "        modules_body = [\n",
    "            RCAB(conv, n_feat, kernel_size, reduction, bias = True, bn =False, act = nn.ReLU(True), res_scale = 1) for _ in range(n_resblocks) \n",
    "        ]\n",
    "        modules_body.append(conv(n_feat, n_feat, kernel_size))\n",
    "        self.body = nn.Sequential(*modules_body)\n",
    "        \n",
    "    def forward(self, x):\n",
    "        res = self.body(x)\n",
    "        res += x\n",
    "        return res"
   ]
  },
  {
   "cell_type": "code",
   "execution_count": null,
   "metadata": {},
   "outputs": [],
   "source": [
    "def default_conv(in_channels, out_channels, kernel_size, bias = True):\n",
    "    return nn.Conv2d(in_channels, out_channels, kernel_size, padding = (kernel_size//2), bias = bias)\n",
    "\n",
    "class RCAN(nn.Module):\n",
    "    def __init__(self, n_colors, n_resgroups, n_resblocks, n_feats, reduction,  scale, res_scale, conv = default_conv):\n",
    "        super().__init__()\n",
    "        \n",
    "        kernel_size = 3\n",
    "        act = nn.ReLU(True)\n",
    "        \n",
    "        modules_head = [conv(n_colors, n_feats, kernel_size)]\n",
    "        modules_body = [\n",
    "            ResidualGroup(conv, n_feats, kernel_size, reduction, act = act, res_scale = res_scale, n_resblocks = n_resblocks) for _ in range(n_groups)\n",
    "        ]\n",
    "        \n",
    "        modules_body.append(conv(n_feats, n_feats, kernel_size))\n",
    "        \n",
    "        modules_tail = [\n",
    "            Upsampler(conv, scale, n_feats, act = False),\n",
    "            conv(n_feats, n_colors, kernel_size)\n",
    "        ]\n",
    "        \n",
    "        self.head = nn.Sequential(*modules_head)\n",
    "        self.body = nn.Sequential(*modules_body)\n",
    "        self.tail = nn.Sequential(*modules_tail)\n",
    "        \n",
    "    def forward(self, x):\n",
    "        x = self.head(x)\n",
    "        \n",
    "        res = self.body(x)\n",
    "        res += x\n",
    "        \n",
    "        x = self.tail(res)\n",
    "        return x"
   ]
  }
 ],
 "metadata": {
  "kernelspec": {
   "display_name": "torch_env",
   "language": "python",
   "name": "torch_env"
  },
  "language_info": {
   "codemirror_mode": {
    "name": "ipython",
    "version": 3
   },
   "file_extension": ".py",
   "mimetype": "text/x-python",
   "name": "python",
   "nbconvert_exporter": "python",
   "pygments_lexer": "ipython3",
   "version": "3.7.6"
  }
 },
 "nbformat": 4,
 "nbformat_minor": 4
}
